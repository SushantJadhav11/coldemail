{
 "cells": [
  {
   "cell_type": "code",
   "execution_count": null,
   "id": "f4ff3906-6120-4a21-89b9-748fa3561552",
   "metadata": {},
   "outputs": [],
   "source": []
  }
 ],
 "metadata": {
  "kernelspec": {
   "display_name": "",
   "name": ""
  },
  "language_info": {
   "name": ""
  }
 },
 "nbformat": 4,
 "nbformat_minor": 5
}
