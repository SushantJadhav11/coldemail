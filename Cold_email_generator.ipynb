{
 "cells": [
  {
   "cell_type": "code",
   "execution_count": 17,
   "id": "e4530144-21d2-4c22-a227-b581b6fefcd7",
   "metadata": {},
   "outputs": [
    {
     "name": "stdout",
     "output_type": "stream",
     "text": [
      "Neil Armstrong. He stepped onto the moon's surface on July 20, 1969, during the Apollo 11 mission.\n"
     ]
    }
   ],
   "source": [
    "from langchain_groq import ChatGroq\n",
    "\n",
    "llm = ChatGroq(\n",
    "    temperature=0,\n",
    "    model_name=\"llama-3.1-70b-versatile\",\n",
    "    groq_api_key='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',\n",
    ")\n",
    "response = llm.invoke(\"The first person to land on the moon was ...\")\n",
    "print(response.content)\n"
   ]
  },
  {
   "cell_type": "code",
   "execution_count": 9,
   "id": "470de30f-fe1c-4418-8f72-efef2924d739",
   "metadata": {},
   "outputs": [
    {
     "name": "stdout",
     "output_type": "stream",
     "text": [
      "Apply for Principal Software Engineer - Android Mobile Platform - Remote Work Option\n",
      "\n",
      "Search JobsSkip navigationSearch JobsNIKE, INC. JOBSContract JobsJoin The Talent CommunityLife @ NikeOverviewBenefitsBrandsOverviewJordanConverseTeamsOverviewAdministrative SupportAdvanced InnovationAir Manufacturing InnovationAviationCommunicationsCustomer ServiceDesignDigitalFacilitiesFinance & AccountingGovernment & Public AffairsHuman ResourcesInsights & AnalyticsLegalManufacturing & EngineeringMarketingMerchandisingPlanningPrivacyProcurementProduct Creation, Development & ManagementRetail CorporateRetail StoresSalesSocial & Community ImpactSports MarketingStrategic PlanningSupply Chain, Distribution & LogisticsSustainabilityTechnologyLocationsOverviewNike WHQNike New York HQEHQ: Hilversum, The NetherlandsELC: Laakdal, BelgiumGreater China HQDiversity, Equity & InclusionOverviewMilitary InclusionDisability InclusionIndigenous InclusionInternshipsTechnologyPrincipal Software Engineer - Android Mobile Platform - Remote Work OptionBeaverton, OregonBecome a Part of the NIKE, Inc. TeamNIKE, Inc. does more than outfit the world’s best athletes. It is a place to explore potential, obliterate boundaries and push out the edges of what can be. The company looks for people who can grow, think, dream and create. Its culture thrives by embracing diversity and rewarding imagination. The brand seeks achievers, leaders and visionaries. At NIKE, Inc. it’s about each person bringing skills and passion to a challenging and constantly evolving game.NIKE is a technology company. From our flagship website and five-star mobile apps to developing products, managing big data and providing leading edge engineering and systems support, our teams at NIKE Global Technology exist to revolutionize the future at the confluence of tech and sport. We invest and develop advances in technology and employ the most creative people in the world, and then give them the support to constantly innovate, iterate and serve consumers more directly and personally.  Our teams are innovative, diverse, multidisciplinary and collaborative, taking technology into the future and bringing the world with it.Open to remote work except in South Dakota, Vermont and West Virginia.The annual base salary for this position ranges from $138,400.00 in our lowest geographic market to $327,200.00 in our highest geographic market. Actual salary will vary based on a candidate's location, qualifications, skills and experience.Information about benefits can be found here. Who we are looking forWe are seeking a Principal Engineer to drive our Android Mobile platform at Nike. Your expertise in Android/Kotlin development will help us stay ahead of the curve in this constantly evolving landscape and chip in significantly to our success!The ideal candidate will be a servant leader, bringing deep technical expertise to deliver outstanding agility, availability, resiliency, security, and performant mobile solutions. Your leadership will deliver these capabilities through communication, collaboration, creativity, critical thinking, problem-solving, dedication, inclusion, and positivity. Your track record in inspiring change and transformation in large global scale mobile engineering technologies, tools, and processes through metrics-driven, KPI-based methodologies, and an evidence-based continuous improvement approach will encourage and excite us!What you will work onIn the role you will translate business strategies and objectives into technical direction, working implementations, and have these responsibilities:Key Responsibilities:Mobile Engineering: Design, develop, and deploy scalable, secure, and highly available Android mobile solutions that meet Nike's business needs across multiple geographies.Technical Leadership: Provide direction and mentorship to multi-functional teams, ensuring alignment with company objectives and industry trends.Innovation: See opportunities for innovation and develop proof-of-concepts (POCs) or minimum viable products (MVPs) to demonstrate the value of new technologies or approaches.Collaboration: Work with collaborators, including business leaders, product managers, and engineering teams, to understand requirements and design solutions.Technology Roadmap: Contribute to the development of Nike's technology roadmap, mentor and coach engineers, sharing knowledge and expertise to help them grow in their careers.Lead strategy, architecture and implementation of innovative Android solutions that are scalable, resilient, and efficient.Leads feasibility analysis and serves as technical leader for the most sophisticated multi-functional initiatives.Work closely with departments to proactively ensure Android mobile engineering capabilities are capable of handling emerging and future business requirements.Who you will work withThis role collaborates with the Senior Director of Digital (Discover) Engineering and will connect across all levels of the organization. In addition, we will partner closely with all Front End Engineering teams.What you bring:Bachelor's degree in Computer Science, Engineering, Information Systems, or similar field or relevant professional experience, education, and training.Minimum 12+ years of experience in software engineering, with a focus on Android mobile engineering.Experience in designing, developing, and deploying, premium, performant, secure, and stable Android based solutions.Deep expertise in Kotlin. Including design, development, and deployment.Strong technical leadership skills, with experience guiding multi-functional teams and influencing technical direction.Knowledge of Agile development methodologies and Scrum framework.Innovative problem-solving skills, with a track record of developing creative solutions to complex technical challenges.Familiarity with DevOps practices, such as continuous integration and delivery (CI/CD).Excellent communication and collaboration skills, with the ability to work optimally with both technical and non-technical partners.Establish best-practice software engineering methodologies for a global, 24x7, high-volume, high-availability, critical production environment, based on metrics-based KPIs.NIKE, Inc. is a growth company that looks for team members to grow with it. Nike offers a generous total rewards package, casual work environment, a diverse and inclusive culture, and an electric atmosphere for professional development. No matter the location, or the role, every Nike employee shares one galvanizing mission: To bring inspiration and innovation to every athlete* in the world.NIKE, Inc. is committed to employing a diverse workforce. Qualified applicants will receive consideration without regard to race, color, religion, sex, national origin, age, sexual orientation, gender identity, gender expression, veteran status, or disability.How We HireAt NIKE, Inc. we promise to provide a premium, inclusive, compelling and authentic candidate experience. Delivering on this promise means we allow you to be at your best — and to do that, you need to understand how the hiring process works. Transparency is key.\n",
      "\n",
      "* This overview explains our hiring process for corporate roles. Note there may be different hiring steps involved for non-corporate roles.Start nowBenefitsWhether it’s transportation or financial health, we continually invest in our employees to help them achieve greatness — inside and outside of work. All who work here should be able to realize their full potential.Employee Assistance ProgramEmployee Stock Purchase Plan (ESPP)HolidaysMedical PlanPaid Time Off (PTO)Product DiscountsSabbaticalsLearn moreFIND A STOREBECOME A MEMBERSIGN UP FOR EMAILSEND US FEEDBACKSTUDENT DISCOUNTSGET HELPGET HELPOrder StatusDeliveryReturnsPayment OptionsContact Us On Nike.com InquiriesContact Us On All Other InquiriesABOUT NIKEABOUT NIKENewsCareersInvestorsSustainabilityIndia© 2024 Nike, Inc. All Rights ReservedGuidesNike AdaptNike Air MaxNike FlyleatherNike PegasusNike Zoom FlyNike AirNike FlyEaseNike FreeNike ReactNike ZoomXNike Air Force 1Nike FlyknitNike JoyrideNike VaporflyTerms of SaleTerms of UseNike Privacy Policy\n"
     ]
    }
   ],
   "source": [
    "from langchain_community.document_loaders import WebBaseLoader\n",
    "\n",
    "loader = WebBaseLoader(\"https://jobs.nike.com/job/R-31227?from=job%20search%20funnel\")\n",
    "page_data = loader.load().pop().page_content\n",
    "print (page_data)"
   ]
  },
  {
   "cell_type": "code",
   "execution_count": 20,
   "id": "1ad8ae87-e72f-423b-bac7-2c7b4d409995",
   "metadata": {},
   "outputs": [
    {
     "name": "stdout",
     "output_type": "stream",
     "text": [
      "```json\n",
      "{\n",
      "  \"role\": \"Principal Software Engineer - Android Mobile Platform\",\n",
      "  \"experience\": \"Minimum 12+ years of experience in software engineering, with a focus on Android mobile engineering\",\n",
      "  \"skills\": [\n",
      "    \"Android/Kotlin development\",\n",
      "    \"Agile development methodologies\",\n",
      "    \"Scrum framework\",\n",
      "    \"DevOps practices\",\n",
      "    \"Continuous integration and delivery (CI/CD)\",\n",
      "    \"Strong technical leadership skills\",\n",
      "    \"Innovative problem-solving skills\",\n",
      "    \"Excellent communication and collaboration skills\"\n",
      "  ],\n",
      "  \"description\": \"We are seeking a Principal Engineer to drive our Android Mobile platform at Nike. Your expertise in Android/Kotlin development will help us stay ahead of the curve in this constantly evolving landscape and chip in significantly to our success! The ideal candidate will be a servant leader, bringing deep technical expertise to deliver outstanding agility, availability, resiliency, security, and performant mobile solutions.\"\n",
      "}\n",
      "```\n"
     ]
    }
   ],
   "source": [
    "from langchain_core.prompts import PromptTemplate\n",
    "prompt_extract = PromptTemplate.from_template(\n",
    "    \"\"\"\n",
    "    ###INSTRUCTION:\n",
    "    The scraped text is from the carrier's page of a website.\n",
    "    Your job is to extract the job postings and return then in JSON format containing \n",
    "    the following keys: 'role','expirence','skills','description'.\n",
    "    Only return the valid JSON.\n",
    "    ###VALID JSON (NO PREAMBLE):{page_data}\n",
    "    \"\"\"\n",
    ")\n",
    "\n",
    "chain_extract = prompt_extract | llm\n",
    "res = chain_extract.invoke(input={'page_data':page_data})\n",
    "print(res.content)"
   ]
  },
  {
   "cell_type": "code",
   "execution_count": 22,
   "id": "c186215a-b0e5-4c68-85c1-5290ba38b8ce",
   "metadata": {},
   "outputs": [
    {
     "data": {
      "text/plain": [
       "{'role': 'Principal Software Engineer - Android Mobile Platform',\n",
       " 'experience': 'Minimum 12+ years of experience in software engineering, with a focus on Android mobile engineering',\n",
       " 'skills': ['Android/Kotlin development',\n",
       "  'Agile development methodologies',\n",
       "  'Scrum framework',\n",
       "  'DevOps practices',\n",
       "  'Continuous integration and delivery (CI/CD)',\n",
       "  'Strong technical leadership skills',\n",
       "  'Innovative problem-solving skills',\n",
       "  'Excellent communication and collaboration skills'],\n",
       " 'description': 'We are seeking a Principal Engineer to drive our Android Mobile platform at Nike. Your expertise in Android/Kotlin development will help us stay ahead of the curve in this constantly evolving landscape and chip in significantly to our success! The ideal candidate will be a servant leader, bringing deep technical expertise to deliver outstanding agility, availability, resiliency, security, and performant mobile solutions.'}"
      ]
     },
     "execution_count": 22,
     "metadata": {},
     "output_type": "execute_result"
    }
   ],
   "source": [
    "from langchain_core.output_parsers import JsonOutputParser\n",
    "\n",
    "json_parser = JsonOutputParser()\n",
    "json_res=json_parser.parse(res.content)\n",
    "json_res"
   ]
  },
  {
   "cell_type": "code",
   "execution_count": 23,
   "id": "88bf1221-4299-41ba-ae90-f097fad0dd85",
   "metadata": {},
   "outputs": [
    {
     "data": {
      "text/plain": [
       "dict"
      ]
     },
     "execution_count": 23,
     "metadata": {},
     "output_type": "execute_result"
    }
   ],
   "source": [
    "type(json_res)"
   ]
  },
  {
   "cell_type": "code",
   "execution_count": 24,
   "id": "b6a00f99-11e1-419d-9803-6032183793fc",
   "metadata": {},
   "outputs": [
    {
     "data": {
      "text/html": [
       "<div>\n",
       "<style scoped>\n",
       "    .dataframe tbody tr th:only-of-type {\n",
       "        vertical-align: middle;\n",
       "    }\n",
       "\n",
       "    .dataframe tbody tr th {\n",
       "        vertical-align: top;\n",
       "    }\n",
       "\n",
       "    .dataframe thead th {\n",
       "        text-align: right;\n",
       "    }\n",
       "</style>\n",
       "<table border=\"1\" class=\"dataframe\">\n",
       "  <thead>\n",
       "    <tr style=\"text-align: right;\">\n",
       "      <th></th>\n",
       "      <th>Techstack</th>\n",
       "      <th>Links</th>\n",
       "    </tr>\n",
       "  </thead>\n",
       "  <tbody>\n",
       "    <tr>\n",
       "      <th>0</th>\n",
       "      <td>React, Node.js, MongoDB</td>\n",
       "      <td>https://example.com/react-portfolio</td>\n",
       "    </tr>\n",
       "    <tr>\n",
       "      <th>1</th>\n",
       "      <td>Angular,.NET, SQL Server</td>\n",
       "      <td>https://example.com/angular-portfolio</td>\n",
       "    </tr>\n",
       "    <tr>\n",
       "      <th>2</th>\n",
       "      <td>Vue.js, Ruby on Rails, PostgreSQL</td>\n",
       "      <td>https://example.com/vue-portfolio</td>\n",
       "    </tr>\n",
       "    <tr>\n",
       "      <th>3</th>\n",
       "      <td>Python, Django, MySQL</td>\n",
       "      <td>https://example.com/python-portfolio</td>\n",
       "    </tr>\n",
       "    <tr>\n",
       "      <th>4</th>\n",
       "      <td>Java, Spring Boot, Oracle</td>\n",
       "      <td>https://example.com/java-portfolio</td>\n",
       "    </tr>\n",
       "    <tr>\n",
       "      <th>5</th>\n",
       "      <td>Flutter, Firebase, GraphQL</td>\n",
       "      <td>https://example.com/flutter-portfolio</td>\n",
       "    </tr>\n",
       "    <tr>\n",
       "      <th>6</th>\n",
       "      <td>WordPress, PHP, MySQL</td>\n",
       "      <td>https://example.com/wordpress-portfolio</td>\n",
       "    </tr>\n",
       "    <tr>\n",
       "      <th>7</th>\n",
       "      <td>Magento, PHP, MySQL</td>\n",
       "      <td>https://example.com/magento-portfolio</td>\n",
       "    </tr>\n",
       "    <tr>\n",
       "      <th>8</th>\n",
       "      <td>React Native, Node.js, MongoDB</td>\n",
       "      <td>https://example.com/react-native-portfolio</td>\n",
       "    </tr>\n",
       "    <tr>\n",
       "      <th>9</th>\n",
       "      <td>iOS, Swift, Core Data</td>\n",
       "      <td>https://example.com/ios-portfolio</td>\n",
       "    </tr>\n",
       "    <tr>\n",
       "      <th>10</th>\n",
       "      <td>Android, Java, Room Persistence</td>\n",
       "      <td>https://example.com/android-portfolio</td>\n",
       "    </tr>\n",
       "    <tr>\n",
       "      <th>11</th>\n",
       "      <td>Kotlin, Android, Firebase</td>\n",
       "      <td>https://example.com/kotlin-android-portfolio</td>\n",
       "    </tr>\n",
       "    <tr>\n",
       "      <th>12</th>\n",
       "      <td>Android TV, Kotlin, Android NDK</td>\n",
       "      <td>https://example.com/android-tv-portfolio</td>\n",
       "    </tr>\n",
       "    <tr>\n",
       "      <th>13</th>\n",
       "      <td>iOS, Swift, ARKit</td>\n",
       "      <td>https://example.com/ios-ar-portfolio</td>\n",
       "    </tr>\n",
       "    <tr>\n",
       "      <th>14</th>\n",
       "      <td>Cross-platform, Xamarin, Azure</td>\n",
       "      <td>https://example.com/xamarin-portfolio</td>\n",
       "    </tr>\n",
       "    <tr>\n",
       "      <th>15</th>\n",
       "      <td>Backend, Kotlin, Spring Boot</td>\n",
       "      <td>https://example.com/kotlin-backend-portfolio</td>\n",
       "    </tr>\n",
       "    <tr>\n",
       "      <th>16</th>\n",
       "      <td>Frontend, TypeScript, Angular</td>\n",
       "      <td>https://example.com/typescript-frontend-portfolio</td>\n",
       "    </tr>\n",
       "    <tr>\n",
       "      <th>17</th>\n",
       "      <td>Full-stack, JavaScript, Express.js</td>\n",
       "      <td>https://example.com/full-stack-js-portfolio</td>\n",
       "    </tr>\n",
       "    <tr>\n",
       "      <th>18</th>\n",
       "      <td>Machine Learning, Python, TensorFlow</td>\n",
       "      <td>https://example.com/ml-python-portfolio</td>\n",
       "    </tr>\n",
       "    <tr>\n",
       "      <th>19</th>\n",
       "      <td>DevOps, Jenkins, Docker</td>\n",
       "      <td>https://example.com/devops-portfolio</td>\n",
       "    </tr>\n",
       "  </tbody>\n",
       "</table>\n",
       "</div>"
      ],
      "text/plain": [
       "                               Techstack  \\\n",
       "0                React, Node.js, MongoDB   \n",
       "1               Angular,.NET, SQL Server   \n",
       "2      Vue.js, Ruby on Rails, PostgreSQL   \n",
       "3                  Python, Django, MySQL   \n",
       "4              Java, Spring Boot, Oracle   \n",
       "5             Flutter, Firebase, GraphQL   \n",
       "6                  WordPress, PHP, MySQL   \n",
       "7                    Magento, PHP, MySQL   \n",
       "8         React Native, Node.js, MongoDB   \n",
       "9                  iOS, Swift, Core Data   \n",
       "10       Android, Java, Room Persistence   \n",
       "11             Kotlin, Android, Firebase   \n",
       "12       Android TV, Kotlin, Android NDK   \n",
       "13                     iOS, Swift, ARKit   \n",
       "14        Cross-platform, Xamarin, Azure   \n",
       "15          Backend, Kotlin, Spring Boot   \n",
       "16         Frontend, TypeScript, Angular   \n",
       "17    Full-stack, JavaScript, Express.js   \n",
       "18  Machine Learning, Python, TensorFlow   \n",
       "19               DevOps, Jenkins, Docker   \n",
       "\n",
       "                                                Links  \n",
       "0                 https://example.com/react-portfolio  \n",
       "1               https://example.com/angular-portfolio  \n",
       "2                   https://example.com/vue-portfolio  \n",
       "3                https://example.com/python-portfolio  \n",
       "4                  https://example.com/java-portfolio  \n",
       "5               https://example.com/flutter-portfolio  \n",
       "6             https://example.com/wordpress-portfolio  \n",
       "7               https://example.com/magento-portfolio  \n",
       "8          https://example.com/react-native-portfolio  \n",
       "9                   https://example.com/ios-portfolio  \n",
       "10              https://example.com/android-portfolio  \n",
       "11       https://example.com/kotlin-android-portfolio  \n",
       "12           https://example.com/android-tv-portfolio  \n",
       "13               https://example.com/ios-ar-portfolio  \n",
       "14              https://example.com/xamarin-portfolio  \n",
       "15       https://example.com/kotlin-backend-portfolio  \n",
       "16  https://example.com/typescript-frontend-portfolio  \n",
       "17        https://example.com/full-stack-js-portfolio  \n",
       "18            https://example.com/ml-python-portfolio  \n",
       "19               https://example.com/devops-portfolio  "
      ]
     },
     "execution_count": 24,
     "metadata": {},
     "output_type": "execute_result"
    }
   ],
   "source": [
    "import pandas as pd\n",
    "df = pd.read_csv(\"my_portfolio.csv\")\n",
    "df"
   ]
  },
  {
   "cell_type": "code",
   "execution_count": 26,
   "id": "31429b6d-538c-4468-8dab-d52b5d64adca",
   "metadata": {},
   "outputs": [],
   "source": [
    "import uuid\n",
    "import chromadb\n",
    "\n",
    "client = chromadb.PersistentClient('vectorstore')\n",
    "collection = client.get_or_create_collection(name='portfolio')\n",
    "\n",
    "if not collection.count():\n",
    "    for _, row in df.iterrows():\n",
    "        collection.add(documents=row[\"Techstack\"],\n",
    "                      metadatas={\"links\": row[\"Links\"]},\n",
    "                      ids=[str(uuid.uuid4())])"
   ]
  },
  {
   "cell_type": "code",
   "execution_count": 32,
   "id": "f19314f4-92e2-4262-a67a-46f0a6bb6ab5",
   "metadata": {},
   "outputs": [
    {
     "data": {
      "text/plain": [
       "[[{'links': 'https://example.com/kotlin-android-portfolio'},\n",
       "  {'links': 'https://example.com/android-tv-portfolio'}],\n",
       " [{'links': 'https://example.com/ios-ar-portfolio'},\n",
       "  {'links': 'https://example.com/kotlin-backend-portfolio'}],\n",
       " [{'links': 'https://example.com/flutter-portfolio'},\n",
       "  {'links': 'https://example.com/kotlin-backend-portfolio'}],\n",
       " [{'links': 'https://example.com/devops-portfolio'},\n",
       "  {'links': 'https://example.com/full-stack-js-portfolio'}],\n",
       " [{'links': 'https://example.com/devops-portfolio'},\n",
       "  {'links': 'https://example.com/magento-portfolio'}],\n",
       " [{'links': 'https://example.com/ml-python-portfolio'},\n",
       "  {'links': 'https://example.com/typescript-frontend-portfolio'}],\n",
       " [{'links': 'https://example.com/ml-python-portfolio'},\n",
       "  {'links': 'https://example.com/devops-portfolio'}],\n",
       " [{'links': 'https://example.com/ml-python-portfolio'},\n",
       "  {'links': 'https://example.com/python-portfolio'}]]"
      ]
     },
     "execution_count": 32,
     "metadata": {},
     "output_type": "execute_result"
    }
   ],
   "source": [
    "links = collection.query(query_texts=job['skills'],n_results=2).get('metadatas',[])\n",
    "links"
   ]
  },
  {
   "cell_type": "code",
   "execution_count": 29,
   "id": "78eb8526-e8f3-4421-9294-88cd426371ab",
   "metadata": {},
   "outputs": [
    {
     "data": {
      "text/plain": [
       "['Android/Kotlin development',\n",
       " 'Agile development methodologies',\n",
       " 'Scrum framework',\n",
       " 'DevOps practices',\n",
       " 'Continuous integration and delivery (CI/CD)',\n",
       " 'Strong technical leadership skills',\n",
       " 'Innovative problem-solving skills',\n",
       " 'Excellent communication and collaboration skills']"
      ]
     },
     "execution_count": 29,
     "metadata": {},
     "output_type": "execute_result"
    }
   ],
   "source": [
    "job = json_res\n",
    "job['skills']"
   ]
  },
  {
   "cell_type": "code",
   "execution_count": 34,
   "id": "0c9703b2-0c9f-468c-a809-9bb18fd9113f",
   "metadata": {},
   "outputs": [
    {
     "name": "stdout",
     "output_type": "stream",
     "text": [
      "Subject: Expert Android Mobile Platform Solutions for Nike\n",
      "\n",
      "Dear Hiring Manager,\n",
      "\n",
      "I came across the job description for a Principal Software Engineer - Android Mobile Platform at Nike, and I'm excited to introduce AtliQ, an AI & Software Consulting company that can help you achieve your goals.\n",
      "\n",
      "With over a decade of experience in software engineering, our team of experts specializes in Android/Kotlin development, Agile development methodologies, Scrum framework, DevOps practices, and Continuous integration and delivery (CI/CD). Our strong technical leadership skills, innovative problem-solving skills, and excellent communication and collaboration skills make us an ideal partner for driving your Android Mobile platform forward.\n",
      "\n",
      "Our portfolio showcases our expertise in Android/Kotlin development, with successful projects such as [https://example.com/kotlin-android-portfolio](https://example.com/kotlin-android-portfolio) and [https://example.com/android-tv-portfolio](https://example.com/android-tv-portfolio). We've also demonstrated our capabilities in DevOps practices, with notable projects at [https://example.com/devops-portfolio](https://example.com/devops-portfolio).\n",
      "\n",
      "At AtliQ, we're committed to delivering outstanding agility, availability, resiliency, security, and performant mobile solutions. Our team is well-equipped to handle the complexities of Android mobile engineering and can help you stay ahead of the curve in this constantly evolving landscape.\n",
      "\n",
      "If you're looking for a trusted partner to drive your Android Mobile platform forward, I'd love to schedule a call to discuss how AtliQ can help. Please let me know if you're interested, and I'll be happy to set up a time that suits you.\n",
      "\n",
      "Best regards,\n",
      "\n",
      "Sushant\n",
      "Business Development Executive\n",
      "AtliQ\n"
     ]
    }
   ],
   "source": [
    "prompt_email = PromptTemplate.from_template(\n",
    "        \"\"\"\n",
    "        ### JOB DESCRIPTION:\n",
    "        {job_description}\n",
    "        \n",
    "        ### INSTRUCTION:\n",
    "        You are Sushant, a business development executive at AtliQ. AtliQ is an AI & Software Consulting company dedicated to facilitating\n",
    "        the seamless integration of business processes through automated tools. \n",
    "        Over our experience, we have empowered numerous enterprises with tailored solutions, fostering scalability, \n",
    "        process optimization, cost reduction, and heightened overall efficiency. \n",
    "        Your job is to write a cold email to the client regarding the job mentioned above describing the capability of AtliQ \n",
    "        in fulfilling their needs.\n",
    "        Also add the most relevant ones from the following links to showcase Atliq's portfolio: {link_list}\n",
    "        Remember you are Mohan, BDE at AtliQ. \n",
    "        Do not provide a preamble.\n",
    "        ### EMAIL (NO PREAMBLE):\n",
    "        \n",
    "        \"\"\"\n",
    "        )\n",
    "\n",
    "chain_email = prompt_email | llm\n",
    "res = chain_email.invoke({\"job_description\": str(job), \"link_list\": links})\n",
    "print(res.content)"
   ]
  },
  {
   "cell_type": "code",
   "execution_count": null,
   "id": "e8fa22f8-5981-47f3-b1ae-887ce97d0c19",
   "metadata": {},
   "outputs": [],
   "source": []
  }
 ],
 "metadata": {
  "kernelspec": {
   "display_name": "Python 3 (ipykernel)",
   "language": "python",
   "name": "python3"
  },
  "language_info": {
   "codemirror_mode": {
    "name": "ipython",
    "version": 3
   },
   "file_extension": ".py",
   "mimetype": "text/x-python",
   "name": "python",
   "nbconvert_exporter": "python",
   "pygments_lexer": "ipython3",
   "version": "3.11.5"
  }
 },
 "nbformat": 4,
 "nbformat_minor": 5
}
